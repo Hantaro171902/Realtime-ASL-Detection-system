{
 "cells": [
  {
   "cell_type": "markdown",
   "id": "f91ed9fb-707d-446f-abed-f1b6da45615f",
   "metadata": {},
   "source": [
    "# 1. Import and Install Dependencies "
   ]
  },
  {
   "cell_type": "code",
   "execution_count": null,
   "id": "1132ec36-4142-4336-b1a5-e273b7749e8e",
   "metadata": {},
   "outputs": [],
   "source": [
    "import cv2\n",
    "import os\n",
    "import time\n",
    "import uuid"
   ]
  },
  {
   "cell_type": "code",
   "execution_count": null,
   "id": "9f352f16-0762-4172-8151-1c7566ba795a",
   "metadata": {},
   "outputs": [],
   "source": [
    "!pip list"
   ]
  },
  {
   "cell_type": "code",
   "execution_count": null,
   "id": "d3ff85b1-33de-4674-bfbc-7249e18f2eb5",
   "metadata": {},
   "outputs": [],
   "source": [
    "IMAGES_PATH = 'Tensorflow/workspace/images/collectedimages'"
   ]
  },
  {
   "cell_type": "code",
   "execution_count": null,
   "id": "ac93e319-a204-41e8-b7ef-5257426a09f2",
   "metadata": {},
   "outputs": [],
   "source": [
    "WORKSPACE_PATH = 'Tensorflow/workspace'\n",
    "SCRIPTS_PATH = 'Tensorflow/scripts'\n",
    "APIMODEL_PATH = 'Tensorflow/models'\n",
    "ANNOTATION_PATH = WORKSPACE_PATH+'/annotations'\n",
    "IMAGE_PATH = WORKSPACE_PATH+'/images'\n",
    "MODEL_PATH = WORKSPACE_PATH+'/models'\n",
    "PRETRAINED_MODEL_PATH = WORKSPACE_PATH+'/pre-trained-models'\n",
    "CONFIG_PATH = MODEL_PATH+'/my_ssd_mobnet/pipeline.config'\n",
    "CHECKPOINT_PATH = MODEL_PATH+'/my_ssd_mobnet/'"
   ]
  },
  {
   "cell_type": "code",
   "execution_count": null,
   "id": "be936f2f-08f2-44ad-8584-bd2457a46a60",
   "metadata": {},
   "outputs": [],
   "source": [
    "labels = ['0','1','2','3','4','5','6','7','8','9',\n",
    "          'a','b','c','d','e','f','g','h','i','j','k','l',\n",
    "          'm','n','o','p','q','r','s','t','u','v','w','x','y','z']\n"
   ]
  },
  {
   "cell_type": "markdown",
   "id": "eaa52ead-8bcc-4011-9cc2-c84e6e43f0f3",
   "metadata": {},
   "source": [
    "# 2. Create Label Map"
   ]
  },
  {
   "cell_type": "code",
   "execution_count": null,
   "id": "7715e14b-5dc2-4b22-94af-45306f6fbd63",
   "metadata": {},
   "outputs": [],
   "source": [
    "labels = [{'name':'0', 'id':1},\n",
    "          {'name':'1', 'id':2},\n",
    "          {'name':'2', 'id':3},\n",
    "          {'name':'3', 'id':4},\n",
    "          {'name':'4', 'id':5},\n",
    "          {'name':'5', 'id':6},\n",
    "          {'name':'6', 'id':7},\n",
    "          {'name':'7', 'id':8},\n",
    "          {'name':'8', 'id':9},\n",
    "          {'name':'9', 'id':10},\n",
    "          {'name':'a', 'id':11},\n",
    "          {'name':'b', 'id':12},\n",
    "          {'name':'c', 'id':13},\n",
    "          {'name':'d', 'id':14},\n",
    "          {'name':'e', 'id':15},\n",
    "          {'name':'f', 'id':16},\n",
    "          {'name':'g', 'id':17},\n",
    "          {'name':'h', 'id':18},\n",
    "          {'name':'i', 'id':19},\n",
    "          {'name':'j', 'id':20},\n",
    "          {'name':'k', 'id':21},\n",
    "          {'name':'l', 'id':22},\n",
    "          {'name':'m', 'id':23},\n",
    "          {'name':'n', 'id':24},\n",
    "          {'name':'o', 'id':25},\n",
    "          {'name':'p', 'id':26},\n",
    "          {'name':'q', 'id':27},\n",
    "          {'name':'r', 'id':28},\n",
    "          {'name':'s', 'id':29},\n",
    "          {'name':'t', 'id':30},\n",
    "          {'name':'u', 'id':31},\n",
    "          {'name':'v', 'id':32},\n",
    "          {'name':'w', 'id':33},\n",
    "          {'name':'x', 'id':34},\n",
    "          {'name':'y', 'id':35},        \n",
    "          {'name':'z', 'id':36},\n",
    "]\n",
    "\n",
    "with open(ANNOTATION_PATH + '/label_map.pbtxt', 'w') as f:\n",
    "    for label in labels:\n",
    "        f.write('item { \\n')\n",
    "        f.write('\\tname:\\'{}\\'\\n'.format(label['name']))\n",
    "        f.write('\\tid:{}\\n'.format(label['id']))\n",
    "        f.write('}\\n')"
   ]
  },
  {
   "cell_type": "markdown",
   "id": "8f548f7c-7058-468c-97fc-63e6ca245dcd",
   "metadata": {},
   "source": [
    "# 3. Create TF records"
   ]
  },
  {
   "cell_type": "code",
   "execution_count": null,
   "id": "e947df91-0389-458c-9480-78b9e9cd2a5a",
   "metadata": {},
   "outputs": [],
   "source": [
    "!python3 {SCRIPTS_PATH + '/generate_tfrecord.py'} -x {IMAGE_PATH + '/train'} -l {ANNOTATION_PATH + '/label_map.pbtxt'} -o {ANNOTATION_PATH + '/train.record'}\n",
    "!python3 {SCRIPTS_PATH + '/generate_tfrecord.py'} -x{IMAGE_PATH + '/test'} -l {ANNOTATION_PATH + '/label_map.pbtxt'} -o {ANNOTATION_PATH + '/test.record'}"
   ]
  },
  {
   "cell_type": "code",
   "execution_count": null,
   "id": "6278ff42-3f21-432b-8235-8ad8fbac3e7b",
   "metadata": {},
   "outputs": [],
   "source": [
    "!pwd"
   ]
  },
  {
   "cell_type": "markdown",
   "id": "64c1596d-2c78-4451-ab5c-a638c6da7994",
   "metadata": {},
   "source": [
    "# 4. Copy Model Config to Training Folder"
   ]
  },
  {
   "cell_type": "code",
   "execution_count": null,
   "id": "5c8a3115-5e9f-4321-9681-df4d9232bba5",
   "metadata": {},
   "outputs": [],
   "source": [
    "CUSTOM_MODEL_NAME = 'my_ssd_mobnet' "
   ]
  },
  {
   "cell_type": "code",
   "execution_count": null,
   "id": "8bda3dc0-e2c7-43a6-b519-dc3bd247b8f6",
   "metadata": {},
   "outputs": [],
   "source": [
    "!mkdir {'Tensorflow/workspace/models/'+CUSTOM_MODEL_NAME}\n",
    "!cp {PRETRAINED_MODEL_PATH+'/ssd_mobilenet_v2_fpnlite_320x320_coco17_tpu-8/pipeline.config'} {MODEL_PATH+'/'+CUSTOM_MODEL_NAME}"
   ]
  },
  {
   "cell_type": "markdown",
   "id": "8e523e6c-ded7-46b7-9202-619ba4f45380",
   "metadata": {},
   "source": [
    "# 5. Update Config For Transfer Learning"
   ]
  },
  {
   "cell_type": "code",
   "execution_count": null,
   "id": "9742737c-b225-4853-b10a-a9915dad3dff",
   "metadata": {},
   "outputs": [],
   "source": [
    "import tensorflow as tf\n",
    "from object_detection.utils import config_util\n",
    "from object_detection.protos import pipeline_pb2\n",
    "from google.protobuf import text_format"
   ]
  },
  {
   "cell_type": "code",
   "execution_count": null,
   "id": "de30cec6-293e-4d67-9f21-e1ebd2322b23",
   "metadata": {},
   "outputs": [],
   "source": [
    "CONFIG_PATH = MODEL_PATH+'/'+CUSTOM_MODEL_NAME+'/pipeline.config'"
   ]
  },
  {
   "cell_type": "code",
   "execution_count": null,
   "id": "c41ff347-fd7e-40d8-9b68-86753fda4655",
   "metadata": {},
   "outputs": [],
   "source": [
    "config = config_util.get_configs_from_pipeline_file(CONFIG_PATH)"
   ]
  },
  {
   "cell_type": "code",
   "execution_count": null,
   "id": "ccbb6ab9-016f-483a-b0a4-4a30c53d3ef1",
   "metadata": {},
   "outputs": [],
   "source": [
    "config"
   ]
  },
  {
   "cell_type": "code",
   "execution_count": null,
   "id": "471e3c73-e209-419b-8cea-91a361d5a457",
   "metadata": {},
   "outputs": [],
   "source": [
    "pipeline_config = pipeline_pb2.TrainEvalPipelineConfig()\n",
    "with tf.io.gfile.GFile(CONFIG_PATH, \"r\") as f:                                                                                                                                                                                                                     \n",
    "    proto_str = f.read()                                                                                                                                                                                                                                          \n",
    "    text_format.Merge(proto_str, pipeline_config)  "
   ]
  },
  {
   "cell_type": "code",
   "execution_count": null,
   "id": "ee51eaa8-626a-476c-bcb7-e7ed20e78ca6",
   "metadata": {},
   "outputs": [],
   "source": [
    "pipeline_config.model.ssd.num_classes = 36\n",
    "pipeline_config.train_config.batch_size = 4\n",
    "pipeline_config.train_config.fine_tune_checkpoint = PRETRAINED_MODEL_PATH+'/ssd_mobilenet_v2_fpnlite_320x320_coco17_tpu-8/checkpoint/ckpt-0'\n",
    "pipeline_config.train_config.fine_tune_checkpoint_type = \"detection\"\n",
    "pipeline_config.train_input_reader.label_map_path= ANNOTATION_PATH + '/label_map.pbtxt'\n",
    "pipeline_config.train_input_reader.tf_record_input_reader.input_path[:] = [ANNOTATION_PATH + '/train.record']\n",
    "pipeline_config.eval_input_reader[0].label_map_path = ANNOTATION_PATH + '/label_map.pbtxt'\n",
    "pipeline_config.eval_input_reader[0].tf_record_input_reader.input_path[:] = [ANNOTATION_PATH + '/test.record']"
   ]
  },
  {
   "cell_type": "code",
   "execution_count": null,
   "id": "e6ca944f-7c95-4f04-b07e-a6ba2e112c09",
   "metadata": {},
   "outputs": [],
   "source": [
    "config_text = text_format.MessageToString(pipeline_config)                                                                                                                                                                                                        \n",
    "with tf.io.gfile.GFile(CONFIG_PATH, \"wb\") as f:                                                                                                                                                                                                                     \n",
    "    f.write(config_text)   "
   ]
  },
  {
   "cell_type": "code",
   "execution_count": null,
   "id": "6520378b-c303-4465-be81-6acfb8549368",
   "metadata": {},
   "outputs": [],
   "source": []
  },
  {
   "cell_type": "markdown",
   "id": "be87c501-7291-4b9c-b7b3-0b462775a822",
   "metadata": {},
   "source": [
    "# 6. Train the model"
   ]
  },
  {
   "cell_type": "code",
   "execution_count": null,
   "id": "ea933c4f-fb47-454e-a22c-841618ecc823",
   "metadata": {},
   "outputs": [],
   "source": [
    "print(\"\"\"python {}/research/object_detection/model_main_tf2.py --model_dir={}/{} --pipeline_config_path={}/{}/pipeline.config --num_train_steps=5000\"\"\".format(APIMODEL_PATH, MODEL_PATH,CUSTOM_MODEL_NAME,MODEL_PATH,CUSTOM_MODEL_NAME))"
   ]
  },
  {
   "cell_type": "markdown",
   "id": "4a3257f4-cc70-4ad4-b7ab-bc75b3c14d0d",
   "metadata": {},
   "source": [
    "# 7. Load Train Model From Checkpoint"
   ]
  },
  {
   "cell_type": "code",
   "execution_count": null,
   "id": "e889d047-330b-4270-a2aa-1435a321d6f5",
   "metadata": {},
   "outputs": [],
   "source": [
    "import os\n",
    "from object_detection.utils import label_map_util\n",
    "from object_detection.utils import visualization_utils as viz_utils\n",
    "from object_detection.builders import model_builder"
   ]
  },
  {
   "cell_type": "code",
   "execution_count": null,
   "id": "bb787ae5-f1be-4487-b8d4-82f451af9445",
   "metadata": {},
   "outputs": [],
   "source": [
    "# Load pipeline config and build a detection model\n",
    "configs = config_util.get_configs_from_pipeline_file(CONFIG_PATH)\n",
    "detection_model = model_builder.build(model_config=configs['model'], is_training=False)\n",
    "\n",
    "# Restore checkpoint\n",
    "ckpt = tf.compat.v2.train.Checkpoint(model=detection_model)\n",
    "ckpt.restore(os.path.join(CHECKPOINT_PATH, 'ckpt-6')).expect_partial()\n",
    "\n",
    "@tf.function\n",
    "def detect_fn(image):\n",
    "    image, shapes = detection_model.preprocess(image)\n",
    "    prediction_dict = detection_model.predict(image, shapes)\n",
    "    detections = detection_model.postprocess(prediction_dict, shapes)\n",
    "    return detections"
   ]
  },
  {
   "cell_type": "markdown",
   "id": "f9315cbf-4525-4132-98b0-12b668abf73a",
   "metadata": {},
   "source": [
    "# 8. Detect in Real-Time"
   ]
  },
  {
   "cell_type": "code",
   "execution_count": null,
   "id": "02b10e96-cf09-469e-b944-68859531e24b",
   "metadata": {},
   "outputs": [],
   "source": [
    "import cv2 \n",
    "import numpy as np"
   ]
  },
  {
   "cell_type": "code",
   "execution_count": null,
   "id": "ff670f07-4540-4a56-b484-3c4479bcced2",
   "metadata": {},
   "outputs": [],
   "source": [
    "category_index = label_map_util.create_category_index_from_labelmap(ANNOTATION_PATH+'/label_map.pbtxt')"
   ]
  },
  {
   "cell_type": "code",
   "execution_count": null,
   "id": "fc222458-51f6-4146-bef5-0bd53254d8e7",
   "metadata": {},
   "outputs": [],
   "source": [
    "# Setup capture\n",
    "cap = cv2.VideoCapture(0)\n",
    "width = int(cap.get(cv2.CAP_PROP_FRAME_WIDTH))\n",
    "height = int(cap.get(cv2.CAP_PROP_FRAME_HEIGHT))"
   ]
  },
  {
   "cell_type": "code",
   "execution_count": null,
   "id": "8dd29c83-fe2e-4a8e-bf1f-6ab54aeb69e5",
   "metadata": {
    "scrolled": true
   },
   "outputs": [],
   "source": [
    "while True: \n",
    "    ret, frame = cap.read()\n",
    "    image_np = np.array(frame)\n",
    "    \n",
    "    input_tensor = tf.convert_to_tensor(np.expand_dims(image_np, axis=0), dtype=tf.float32)\n",
    "    detections = detect_fn(input_tensor)\n",
    "    \n",
    "    num_detections = int(detections.pop('num_detections'))\n",
    "    detections = {key: value[0, :num_detections].numpy()\n",
    "                  for key, value in detections.items()}\n",
    "    detections['num_detections'] = num_detections\n",
    "\n",
    "    # detection_classes should be ints.\n",
    "    detections['detection_classes'] = detections['detection_classes'].astype(np.int64)\n",
    "\n",
    "    label_id_offset = 1\n",
    "    image_np_with_detections = image_np.copy()\n",
    "\n",
    "    viz_utils.visualize_boxes_and_labels_on_image_array(\n",
    "                image_np_with_detections,\n",
    "                detections['detection_boxes'],\n",
    "                detections['detection_classes']+label_id_offset,\n",
    "                detections['detection_scores'],\n",
    "                category_index,\n",
    "                use_normalized_coordinates=True,\n",
    "                max_boxes_to_draw=5,\n",
    "                min_score_thresh=.5,\n",
    "                agnostic_mode=False)\n",
    "\n",
    "    cv2.imshow('object detection',  cv2.resize(image_np_with_detections, (800, 600)))\n",
    "    \n",
    "    if cv2.waitKey(1) == ord('q'):\n",
    "        cap.release()\n",
    "        break"
   ]
  },
  {
   "cell_type": "code",
   "execution_count": null,
   "id": "3e9c5f05-1377-4c14-8c42-18f04251f0de",
   "metadata": {},
   "outputs": [],
   "source": [
    "from matplotlib import pyplot as plt"
   ]
  },
  {
   "cell_type": "code",
   "execution_count": null,
   "id": "1d18b146-a098-41cf-8de5-e80e9d72baaf",
   "metadata": {},
   "outputs": [],
   "source": [
    "cap.release()"
   ]
  },
  {
   "cell_type": "code",
   "execution_count": null,
   "id": "38172dc8-4c11-4dbb-a1e0-e887de3d579f",
   "metadata": {},
   "outputs": [],
   "source": [
    "!pip list"
   ]
  },
  {
   "cell_type": "code",
   "execution_count": null,
   "id": "6dec94d7-88b9-4c34-8d3e-686f99851915",
   "metadata": {},
   "outputs": [],
   "source": [
    "detections = detect_fn(input_tensor)"
   ]
  },
  {
   "cell_type": "code",
   "execution_count": null,
   "id": "2f8f365e-2758-43d5-9bd7-0e785ad1d42f",
   "metadata": {},
   "outputs": [],
   "source": [
    "!pip uninstall opencv-contrib-python -y  \n",
    "!pip uninstall opencv-python-headless -y"
   ]
  },
  {
   "cell_type": "code",
   "execution_count": null,
   "id": "9f8994b6-b3a2-4eac-872a-8456dc513e92",
   "metadata": {},
   "outputs": [],
   "source": [
    "!pip uninstall opencv-python -y"
   ]
  },
  {
   "cell_type": "code",
   "execution_count": null,
   "id": "b35da678-85e4-4c6e-a55b-d9bf96feafda",
   "metadata": {},
   "outputs": [],
   "source": [
    "!pip install opencv-python"
   ]
  },
  {
   "cell_type": "code",
   "execution_count": null,
   "id": "b4fa09bf-94e5-4c1f-86fb-6ce5d9b88f01",
   "metadata": {},
   "outputs": [],
   "source": [
    "import cv2\n",
    "\n",
    "image = cv2.imread(\"/home/hantaro/Pictures/logo-hop tac xa sinh duoc.png\")\n",
    "cv2.imshow(\"Image\", image)\n",
    "cv2.waitKey(0)\n",
    "cv2.destroyAllWindows()\n"
   ]
  },
  {
   "cell_type": "code",
   "execution_count": null,
   "id": "ef5ef314-eba0-47c8-b45d-c69bc82112e2",
   "metadata": {},
   "outputs": [],
   "source": [
    "import cv2\n",
    "print(cv2.__version__)\n"
   ]
  },
  {
   "cell_type": "code",
   "execution_count": null,
   "id": "db7c6a53-46db-4543-a9e4-d5b0a4cdc771",
   "metadata": {},
   "outputs": [],
   "source": [
    "import cv2\n",
    "print(cv2.__file__)\n"
   ]
  },
  {
   "cell_type": "code",
   "execution_count": null,
   "id": "480cbcd1-6179-4b6c-8bee-c51365f40408",
   "metadata": {},
   "outputs": [],
   "source": [
    "import sys\n",
    "sys.path.append('/hantaro/local/lib/python3.10/site-packages')\n"
   ]
  },
  {
   "cell_type": "code",
   "execution_count": null,
   "id": "5d223f6a-86d8-4fe8-9fd5-de4456f3a6f0",
   "metadata": {},
   "outputs": [],
   "source": [
    "!pip -V"
   ]
  },
  {
   "cell_type": "code",
   "execution_count": null,
   "id": "09b2253a-796b-4035-99bc-69522570b04b",
   "metadata": {},
   "outputs": [],
   "source": [
    "!cp /home/hantaro/.local/lib/python3.10/site-packages/cv2/__init__.py "
   ]
  }
 ],
 "metadata": {
  "kernelspec": {
   "display_name": "action",
   "language": "python",
   "name": "action"
  },
  "language_info": {
   "codemirror_mode": {
    "name": "ipython",
    "version": 3
   },
   "file_extension": ".py",
   "mimetype": "text/x-python",
   "name": "python",
   "nbconvert_exporter": "python",
   "pygments_lexer": "ipython3",
   "version": "3.10.12"
  }
 },
 "nbformat": 4,
 "nbformat_minor": 5
}
